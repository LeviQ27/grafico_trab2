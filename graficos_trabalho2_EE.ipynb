{
 "cells": [
  {
   "cell_type": "markdown",
   "metadata": {},
   "source": [
    "### Programa em Python para calcular e plotar os gráficos de evolução do consumo de energia por Setor\n",
    "\n",
    "Para cada setor será utilizado as seguintes equações para fazer a projeção:\n",
    "\n",
    "\n",
    "1. DemTC=KTEP  ou 10<sup>6</sup> tep <span style=\"margin-right: 60px;\"></span> 20/100 Ntc=0,2 <span style=\"margin-right: 60px;\"></span> TC (Veículos Transporte de carga)\n",
    "  \n",
    "2. DemT(DIESEL)=0,05.EL <span style=\"margin-right: 60px;\"></span> 30/100 Ntc=0,3 <span style=\"margin-right: 60px;\"></span> TD(Central termelétrica diesel)  \n",
    "  \n",
    "3. DemT(HFO)=0,95.EL <span style=\"margin-right: 60px;\"></span> 39/100 Ntc=0,39 <span style=\"margin-right: 60px;\"></span> EL(Eletricidade) TH(Central HFO)  \n",
    "4. DemTP=KTEP ou 10<sup>6</sup> tep <span style=\"margin-right: 60px;\"></span> 15/100 Ntc=0,15 <span style=\"margin-right: 60px;\"></span> TP(Transporte de passageiros) \n",
    "5. Energia Total = DemTC/Ntc + DemTD/Ntc+ DemTH/Ntc + DemTP/Ntc"
   ]
  },
  {
   "cell_type": "code",
   "execution_count": null,
   "metadata": {},
   "outputs": [],
   "source": []
  },
  {
   "cell_type": "markdown",
   "metadata": {},
   "source": [
    "### Setor de Veículos de Transporte de Carga"
   ]
  }
 ],
 "metadata": {
  "language_info": {
   "name": "python"
  }
 },
 "nbformat": 4,
 "nbformat_minor": 2
}
